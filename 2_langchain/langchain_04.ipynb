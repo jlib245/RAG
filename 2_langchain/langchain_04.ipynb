{
 "cells": [
  {
   "cell_type": "markdown",
   "metadata": {},
   "source": [
    "### Ollama 사용"
   ]
  },
  {
   "cell_type": "markdown",
   "metadata": {},
   "source": [
    "### langchain 사용"
   ]
  },
  {
   "cell_type": "code",
   "execution_count": 5,
   "metadata": {},
   "outputs": [
    {
     "name": "stdout",
     "output_type": "stream",
     "text": [
      "대한민국은 세계에서 다섯 번째로 인구가 많은 국가로, 현재 약 **5천만 명** (2024년 기준)의 인구를 보유하고 있습니다. 주요 특징은 다음과 같습니다:\n",
      "\n",
      "1. **고령화**: 세계에서 가장 빠르게 진행되는 인구 고령화 추세를 보이고 있어, 노인 인구 비율이 증가하고 있습니다. 65세 이상 인구가 전체 인구의 약 **18%**를 차지합니다.\n",
      "   \n",
      "2. **높은 출산율**: 과거에는 높은 출산율을 기록했으나, 최근에는 지속적인 감소 추세에 있습니다. 최근 출산율은 약 **0.8명** 미만으로 매우 낮은 편입니다.\n",
      "\n",
      "3. **경제력**: 빠른 경제 성장과 높은 GDP로 세계에서 선진국 그룹에 속하며, 제조업과 서비스업 중심의 고도화된 산업 구조를 갖추고 있습니다.\n",
      "\n",
      "4. **문화적 다양성**: 다양한 민족 구성과 문화적 유산으로 인해 풍부한 문화적 환경을 자랑합니다. 한민족 외에도 중국계, 일본인, 외국인 등 다양한 인구가 공존합니다.\n",
      "\n",
      "이러한 요소들이 복합적으로 작용하여 대한민국의 사회와 경제를 형성하고 있습니다.\n"
     ]
    }
   ],
   "source": [
    "from langchain_community.chat_models import ChatOllama\n",
    "from langchain_core.output_parsers import StrOutputParser\n",
    "from langchain_core.prompts import ChatPromptTemplate\n",
    "\n",
    "# Ollama 모델을 불러옵니다.\n",
    "llm = ChatOllama(model=\"exaone3.5:2.4b\")\n",
    "\n",
    "# 프롬프트\n",
    "prompt = ChatPromptTemplate.from_template(\"{topic} 에 대하여 간략히 설명해 줘.\")\n",
    "\n",
    "# 체인 생성\n",
    "chain = prompt | llm | StrOutputParser()\n",
    "\n",
    "# 간결성을 위해 응답은 터미널에 출력됩니다.\n",
    "answer = chain.invoke({\"topic\": \"대한민국의 인구\"})\n",
    "\n",
    "print(answer)"
   ]
  },
  {
   "cell_type": "code",
   "execution_count": 11,
   "metadata": {},
   "outputs": [
    {
     "name": "stdout",
     "output_type": "stream",
     "text": [
      "한국(공식적으로 대한민국으로 알려져 있음)은 동아시아에 위치한 나라로, 북쪽에 북한과 접하고 남쪽에는 일본 해협을 사이에 두고 대만과 마주보고 있습니다. 한국의 총 면적은 약 100,296제곱킬로미터이며, 이는 미국의 뉴저지 주와 비슷한 크기입니다. 현재 추정에 따르면 한국의 인구는 약 5140만 명으로, 세계에서 28번째로 큰 국가입니다.\n",
      "\n",
      "대한민국은 다양한 민족 그룹이 공존하는 것으로 알려져 있으며, 한국인이 대다수인 반면 소수의 중국계, 일본계, 기타 소수 민족들이 있습니다. 공식 언어는 한국어이며, 이는 한글이라는 독특한 문자 체계로 쓰여집니다. 주요 종교는 기독교(주로 개신교), 불교, 천주교 순입니다.\n",
      "\n",
      "한국 인구의 평균 기대 수명은 82.5세이며, 교육 수준의 분포가 비교적 고른 편으로, 한국의 성인은 대체로 잘 교육받았습니다. 문해율은 매우 높아, 한국 성인 중 약 98.7%가 글을 읽고 쓸 수 있습니다.\n",
      "\n",
      "최근 몇 년 간 출산율이 감소함에 따라 인구 구조에 변화가 생겼습니다. 이는 노령화 사회로의 전환을 가져왔으며, 현재 한국의 노인 비율(65세 이상)은 전체 인구의 대략 14.2%입니다. 이러한 추세가 계속된다면 2025년에는 대한민국이 '초고령' 사회로 분류될 것으로 예상됩니다.\n",
      "\n",
      "한국 사회는 전통적으로 가부장적이었으며 가족 구조는 여전히 중요한 역할을 하고 있습니다. 하지만, 최근 몇 년 동안 여성 권리가 강화되면서 여성의 노동 시장 참여와 정치 분야에서의 역할이 증가하였습니다. 또한 도시화와 산업화로 인해 젊은 세대 사이에 전통적인 가치관이 도전받고 있으며 현대적인 추세들이 등장하고 있습니다.\n",
      "\n",
      "전반적으로 대한민국의 인구는 다양하고 역동적이며 빠르게 발전하는 국가입니다. 기술 강국으로서 한국의 성장 및 발전은 앞으로도 계속될 것으로 예상됩니다.\n"
     ]
    }
   ],
   "source": [
    "from langchain_community.chat_models import ChatOllama\n",
    "from langchain_core.output_parsers import StrOutputParser\n",
    "from langchain_core.prompts import ChatPromptTemplate\n",
    "\n",
    "# Ollama 모델을 불러옵니다.\n",
    "llm = ChatOllama(\n",
    "    model=\"EEVE-Korean-10.8B:latest\",\n",
    "    base_url='http://1.227.21.165:11434', #remote ubuntu\n",
    ")\n",
    "\n",
    "# 프롬프트\n",
    "prompt = ChatPromptTemplate.from_template(\"{topic} 에 대하여 간략히 설명해 줘.\")\n",
    "\n",
    "# 체인 생성\n",
    "chain = prompt | llm | StrOutputParser()\n",
    "\n",
    "# 간결성을 위해 응답은 터미널에 출력됩니다.\n",
    "answer = chain.invoke({\"topic\": \"대한민국의 인구\"})\n",
    "\n",
    "print(answer)"
   ]
  },
  {
   "cell_type": "code",
   "execution_count": null,
   "metadata": {},
   "outputs": [],
   "source": []
  }
 ],
 "metadata": {
  "kernelspec": {
   "display_name": "ragstudy-L89wIJFw-py3.11",
   "language": "python",
   "name": "python3"
  },
  "language_info": {
   "codemirror_mode": {
    "name": "ipython",
    "version": 3
   },
   "file_extension": ".py",
   "mimetype": "text/x-python",
   "name": "python",
   "nbconvert_exporter": "python",
   "pygments_lexer": "ipython3",
   "version": "3.11.9"
  }
 },
 "nbformat": 4,
 "nbformat_minor": 2
}
