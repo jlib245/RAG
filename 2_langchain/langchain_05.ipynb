{
 "cells": [
  {
   "cell_type": "code",
   "execution_count": 1,
   "metadata": {},
   "outputs": [
    {
     "data": {
      "text/plain": [
       "True"
      ]
     },
     "execution_count": 1,
     "metadata": {},
     "output_type": "execute_result"
    }
   ],
   "source": [
    "from dotenv import load_dotenv\n",
    "# API KEY 정보 불러오기\n",
    "load_dotenv()"
   ]
  },
  {
   "cell_type": "markdown",
   "metadata": {},
   "source": [
    "# 단순 버전\n",
    "pdf 파일이 크면 제대로 요약이 안됨"
   ]
  },
  {
   "cell_type": "code",
   "execution_count": null,
   "metadata": {},
   "outputs": [
    {
     "name": "stdout",
     "output_type": "stream",
     "text": [
      "43\n",
      "요 약\n",
      "i\n",
      "요 약\n",
      "연구 배경\n",
      "미래유망기술 선정을 통해 현재 우리 사회에서 중요하게 생각하는 이슈와 과학기술의 \n",
      "미래 방향성 제시 필요\n",
      "미래이슈에 대응하기 위한 10대 유망기술을 선정하고, 유망기술별 심층분석 자료를 제공하여\n",
      "미래모습을 구체화하고 활용성을 강화\n",
      "연구 절차\n",
      "미래이슈 선정, 미래유망 후보기술 발굴, 미래유망기술 선정, 미래유망기술 심층 분석 \n",
      "등\n"
     ]
    }
   ],
   "source": [
    "from langchain.document_loaders import PyPDFLoader\n",
    "\n",
    "# PDF 파일 로드\n",
    "loader = PyPDFLoader(\"../3_RAG/data/[KISTEP+브리프]+‘생성형+인공지능’+시대의+10대+미래유망기술.pdf\")\n",
    "document = loader.load()\n",
    "print(len(document))\n",
    "print(document[2].page_content[:200])"
   ]
  },
  {
   "cell_type": "code",
   "execution_count": null,
   "metadata": {},
   "outputs": [
    {
     "name": "stdout",
     "output_type": "stream",
     "text": [
      "8\n"
     ]
    }
   ],
   "source": [
    "document = document[2:10] \n",
    "#테스트 시간 절약을 위해 8페이지만 사용\n",
    "print(len(document))"
   ]
  },
  {
   "cell_type": "code",
   "execution_count": null,
   "metadata": {},
   "outputs": [],
   "source": [
    "from langchain_core.output_parsers import StrOutputParser\n",
    "from langchain_core.prompts import ChatPromptTemplate\n",
    "from langchain_openai import ChatOpenAI\n",
    "\n",
    "template = \"\"\"\n",
    "# Instruction\n",
    "이 PDF 문서의 전체 내용을 A4 한 장 분량으로 요약해 주세요. 다음 지침을 따라 요약해 주세요:\n",
    "1. A4 한 장(약 500-600 단어) 분량으로 작성해 주세요.\n",
    "2. 요약의 구조: \n",
    "   - 도입: 문서의 목적과 주요 주제를 간략히 설명해 주세요.\n",
    "   - 주요 내용: 문서의 각 주요 섹션을 포함해 중요한 세부 사항과 논점을 정리해 주세요.\n",
    "   - 결론 및 요점: 문서의 결론과 주요 결과를 요약하고, 주요 포인트를 정리해 주세요.\n",
    "3. 핵심 내용 강조: 문서에서 가장 중요한 정보, 데이터, 또는 논쟁점을 명확히 제시해 주세요.\n",
    "4. 어조 및 스타일: 전문적이고 객관적인 어조로 작성해 주세요.\n",
    "5. 목적: 이 요약은 문서의 전체 내용을 빠르고 정확하게 파악할 수 있도록 하기 위해 사용될 것입니다.\n",
    "\n",
    "# PDF Document\n",
    "{pdf_content}\n",
    "\"\"\"\n",
    "prompt = ChatPromptTemplate.from_template(template)\n",
    "\n",
    "llm = ChatOpenAI(model_name=\"gpt-4o\", temperature=0)\n",
    "chain = prompt | llm | StrOutputParser()"
   ]
  },
  {
   "cell_type": "code",
   "execution_count": null,
   "metadata": {},
   "outputs": [
    {
     "name": "stdout",
     "output_type": "stream",
     "text": [
      "## 도입\n",
      "이 문서는 한국과학기술기획평가원(KISTEP)이 2024년을 대비하여 선정한 10대 미래유망기술에 대한 연구 보고서로, '생성형 인공지능 시대'를 주제로 삼고 있다. 문서의 목적은 급변하는 기술 환경 속에서 한국 사회가 직면할 미래 이슈에 대응하기 위한 유망기술을 선정하고, 이를 통해 과학기술의 미래 방향성을 제시하는 것이다. 특히, 생성형 인공지능(Generative AI)의 확산이 가져올 사회적 변화를 예측하고 이에 대응할 수 있는 기술적 기반을 마련하는 데 중점을 두고 있다.\n",
      "\n",
      "## 주요 내용\n",
      "### 연구 배경 및 필요성\n",
      "생성형 인공지능의 급부상과 디지털 전환, 탄소중립 기반 에너지 전환 등으로 인해 기술 변화의 속도가 빨라지고 있으며, 이러한 변화에 대응하기 위해 미래유망기술을 선정하는 것이 중요하다. 특히, 인공지능이 텍스트, 이미지, 영상, 코드 등 새로운 창작물을 생성하는 시대가 도래함에 따라, 이에 대응할 수 있는 기술을 발굴하는 것이 필요하다.\n",
      "\n",
      "### 연구 절차\n",
      "연구는 미래 이슈 선정, 유망기술 후보 발굴, 유망기술 선정, 심층 분석의 순서로 진행되었다. 2024년의 주제는 '생성형 인공지능'으로 선정되었으며, 문헌조사, 설문조사, 전문가 회의 등을 통해 10대 유망기술이 최종 선정되었다. 각 기술은 기술 개요, 국내외 동향, 2033년 미래 전망, 다른 기술과의 관계, 기술적 난제 및 정책 제언 등을 포함하여 심층 분석되었다.\n",
      "\n",
      "### 10대 미래유망기술\n",
      "선정된 10대 유망기술은 다음과 같다: ① 거대언어모델(LLM) 기반 텍스트 생성형 인공지능, ② 자율 이미지 및 영상 생성형 인공지능, ③ 신경망처리 기반 인공지능 전용칩, ④ 지능형 개인 맞춤 서비스 인공지능, ⑤ 감성내재 음성 생성형 인공지능, ⑥ 클라우드 기반 머신러닝 플랫폼, ⑦ 코딩 보조용 생성형 언어 모델, ⑧ 멀티모달 통합 인식 및 생성 인공지능, ⑨ 인공지능 신뢰성 및 안전성 제고 기술, ⑩ 인공지능 오픈 마켓플레이스 플랫폼.\n",
      "\n",
      "### 연구 결과\n",
      "생성형 인공지능 시대는 향후 10년 이내에 한국 사회에 큰 변화를 가져올 것으로 예상되며, 각 유망기술은 상호보완적 관계를 통해 긍정적 시너지 효과를 창출할 것으로 기대된다. 기술의 조속한 실현과 발전을 위해서는 원천기술 확보, 법·제도 개선, 인프라 구축, 인력 양성, 신뢰성·안전성 제고 등이 필요하다.\n",
      "\n",
      "## 결론 및 요점\n",
      "결론적으로, 생성형 인공지능 시대의 도래는 새로운 창작의 시대를 열 것이며, 이에 대응하기 위한 10대 유망기술은 그 확산에 기여할 수 있는 잠재력을 지니고 있다. 각 기술은 다른 기술과의 상호보완적 관계를 통해 긍정적 시너지를 창출할 것으로 기대되며, 이를 위해서는 기술적, 법적, 인프라적 준비가 필요하다. 특히, 논문 및 특허 분석에 따르면, 미국과 유럽이 이 분야를 주도하고 있으며, 한국은 정부 차원의 지원과 집중적 투자가 필요하다. 이러한 준비가 이루어진다면, 한국은 생성형 인공지능 시대의 선도국으로 자리매김할 수 있을 것이다.\n"
     ]
    }
   ],
   "source": [
    "response = chain.invoke({\"pdf_content\": \"\\n\".join([doc.page_content for doc in document])})\n",
    "print(response)\n",
    "# invoke : 답변 생성을 모두 마친 후 출력(사용자가 대기하며 느리다고 느낄 수 있음)"
   ]
  },
  {
   "cell_type": "code",
   "execution_count": null,
   "metadata": {},
   "outputs": [
    {
     "name": "stdout",
     "output_type": "stream",
     "text": [
      "**도입:**\n",
      "이 문서는 한국과학기술기획평가원(KISTEP)이 2024년을 대비하여 선정한 10대 미래유망기술에 대한 연구 보고서로, '생성형 인공지능 시대'를 주제로 삼고 있다. 문서의 목적은 급변하는 기술 환경 속에서 한국 사회가 직면할 미래 이슈를 예측하고, 이에 대응할 수 있는 과학기술의 방향성을 제시하는 것이다. 이를 통해 생성형 인공지능의 확산에 기여할 수 있는 기술들을 발굴하고, 각 기술의 심층 분석을 통해 미래 사회의 구체적인 모습을 제시하고자 한다.\n",
      "\n",
      "**주요 내용:**\n",
      "연구는 크게 네 단계로 진행되었다. 첫째, 미래 이슈를 선정하기 위해 국내외 문헌조사와 전문가 의견 수렴을 통해 후보군을 발굴하고, 설문조사를 통해 최종 이슈를 확정하였다. 둘째, 미래유망기술 후보군을 발굴하기 위해 국가과학기술 표준 분류체계와 다양한 문헌리뷰를 통해 기술을 도출하였다. 셋째, 후보 기술에 대한 전문가 논의와 평가를 통해 최종 10대 유망기술을 선정하였다. 넷째, 선정된 기술에 대해 기술 개요, 국내외 동향, 2033년 미래 전망, 기술적 난제 및 정책 제언 등을 포함한 심층 분석을 수행하였다.\n",
      "\n",
      "선정된 10대 유망기술은 다음과 같다: ① 거대언어모델(LLM) 기반 텍스트 생성형 인공지능, ② 자율 이미지 및 영상 생성형 인공지능, ③ 신경망처리 기반 인공지능 전용칩, ④ 지능형 개인 맞춤 서비스 인공지능, ⑤ 감성내재 음성 생성형 인공지능, ⑥ 클라우드 기반 머신러닝 플랫폼, ⑦ 코딩 보조용 생성형 언어 모델, ⑧ 멀티모달 통합 인식 및 생성 인공지능, ⑨ 인공지능 신뢰성 및 안전성 제고 기술, ⑩ 인공지능 오픈 마켓플레이스 플랫폼.\n",
      "\n",
      "**결론 및 요점:**\n",
      "문서는 생성형 인공지능 시대가 5~10년 내에 새로운 창작의 시대를 열 것이며, 각 유망기술이 상호보완적 관계를 통해 긍정적 시너지를 창출할 것으로 기대하고 있다. 이를 위해 원천기술 확보, 법･제도 개선, 인프라 구축, 인력 양성, 신뢰성･안전성 제고가 필요하다고 강조한다. 특히, 생성형 AI 기술의 경우 논문 및 특허 분석을 통해 미국과 유럽이 주도하고 있으며, 정부 차원의 지원과 집중적 투자가 필요하다고 제언한다.\n",
      "\n",
      "이 연구는 한국이 기술 선도국으로 도약하기 위한 전략적 방향성을 제시하며, 미래 사회 대비와 과학기술 전략 수립에 중요한 기초 자료로 활용될 수 있다."
     ]
    }
   ],
   "source": [
    "for token in chain.stream({\"pdf_content\": \"\\n\".join([doc.page_content for doc in document])}):\n",
    "    print(token, end=\"\", flush=True)\n",
    "# streame : 답변 생성과 동시에 출력(답변이 일단 나오니까 사용자들은 느리다고 느끼지 않을 수 있음)"
   ]
  },
  {
   "cell_type": "markdown",
   "metadata": {},
   "source": [
    "# PDF 파일이 클 경우"
   ]
  },
  {
   "cell_type": "markdown",
   "metadata": {},
   "source": [
    "### PDF를 로드"
   ]
  },
  {
   "cell_type": "code",
   "execution_count": 49,
   "metadata": {},
   "outputs": [
    {
     "name": "stdout",
     "output_type": "stream",
     "text": [
      "- 1 -소나기\n",
      "황순원\n",
      "소년은 개울가에서 소녀를 보자 곧 윤 초시네 증손녀 (曾孫女 )딸이라는 걸 알 수 있었다 . \n",
      "소녀는 개울에다 손을 잠그고 물장난을 하고 있는 것이다 . 서울서는 이런 개울물을 보지 \n",
      "못하기나 한 듯이.\n",
      "벌써 며칠째 소녀는 , 학교에서 돌아오는 길에 물장난이었다 . 그런데 , 어제까지 개울 기슭에\n",
      "서 하더니 , 오늘은 징검다리 한가운\n"
     ]
    }
   ],
   "source": [
    "from langchain.document_loaders import PyPDFLoader\n",
    "\n",
    "# PDF 파일 로드\n",
    "loader = PyPDFLoader(\"./data/소나기 - 황순원.pdf\")\n",
    "document = loader.load()\n",
    "print(document[0].page_content[:200])"
   ]
  },
  {
   "cell_type": "markdown",
   "metadata": {},
   "source": [
    "### 문서 분할"
   ]
  },
  {
   "cell_type": "code",
   "execution_count": 50,
   "metadata": {},
   "outputs": [
    {
     "name": "stdout",
     "output_type": "stream",
     "text": [
      "7\n"
     ]
    }
   ],
   "source": [
    "from langchain.text_splitter import CharacterTextSplitter\n",
    "\n",
    "# 스플리터 지정\n",
    "text_splitter = CharacterTextSplitter.from_tiktoken_encoder(\n",
    "    separator=\"\\n\\n\",  # 분할기준\n",
    "    chunk_size=3000,   # 사이즈\n",
    "    chunk_overlap=500, # 중첩 사이즈\n",
    ")\n",
    "# 분할 실행\n",
    "split_docs = text_splitter.split_documents(document)\n",
    "# 총 분할된 도큐먼트 수\n",
    "print(len(split_docs))"
   ]
  },
  {
   "cell_type": "markdown",
   "metadata": {},
   "source": [
    "### 분할된 각 문서에 대한 요약 실행"
   ]
  },
  {
   "cell_type": "code",
   "execution_count": null,
   "metadata": {},
   "outputs": [],
   "source": [
    "from langchain.prompts import PromptTemplate\n",
    "from langchain.chat_models import ChatOpenAI\n",
    "from langchain.chains import LLMChain\n",
    "\n",
    "# Map 단계에서 처리할 프롬프트 정의\n",
    "# 분할된 문서에 적용할 프롬프트 내용을 기입합니다.\n",
    "# 여기서 {pages} 변수에는 분할된 문서가 차례대로 대입되니다.\n",
    "map_template = \"\"\"다음은 문서 중 일부 내용입니다\n",
    "{pages}\n",
    "이 문서 목록을 기반으로 주요 내용을 요약해 주세요.\n",
    "답변:\"\"\"\n",
    "\n",
    "# Map 프롬프트 완성\n",
    "map_prompt = PromptTemplate.from_template(map_template)\n",
    "\n",
    "# Map에서 수행할 LLMChain 정의\n",
    "llm = ChatOpenAI(temperature=0, model_name='gpt-3.5-turbo-16k') #비용과 속도 고려. 토큰 16k.   4o(8k)\n",
    "map_chain = LLMChain(llm=llm, prompt=map_prompt)"
   ]
  },
  {
   "cell_type": "markdown",
   "metadata": {},
   "source": [
    "### 각 문서의 요약본에 대한 통합"
   ]
  },
  {
   "cell_type": "code",
   "execution_count": 57,
   "metadata": {},
   "outputs": [],
   "source": [
    "# Reduce 단계에서 처리할 프롬프트 정의\n",
    "reduce_template = \"\"\"다음은 요약의 집합입니다:\n",
    "{doc_summaries}\n",
    "이것들을 바탕으로 통합된 요약을 만들어 주세요.\n",
    "답변:\"\"\"\n",
    "\n",
    "# Reduce 프롬프트 완성\n",
    "reduce_prompt = PromptTemplate.from_template(reduce_template)\n",
    "\n",
    "# Reduce에서 수행할 LLMChain 정의\n",
    "reduce_chain = LLMChain(llm=llm, prompt=reduce_prompt)"
   ]
  },
  {
   "cell_type": "code",
   "execution_count": 58,
   "metadata": {},
   "outputs": [],
   "source": [
    "from langchain.chains.combine_documents.stuff import StuffDocumentsChain\n",
    "from langchain.chains import ReduceDocumentsChain\n",
    "\n",
    "# 문서의 목록을 받아들여, 이를 단일 문자열로 결합하고, 이를 LLMChain에 전달합니다.\n",
    "combine_documents_chain = StuffDocumentsChain(\n",
    "    llm_chain=reduce_chain,                \n",
    "    document_variable_name=\"doc_summaries\" # Reduce 프롬프트에 대입되는 변수\n",
    ")\n",
    "\n",
    "# Map 문서를 통합하고 순차적으로 Reduce합니다.\n",
    "reduce_documents_chain = ReduceDocumentsChain(\n",
    "    # 호출되는 최종 체인입니다.\n",
    "    combine_documents_chain=combine_documents_chain,\n",
    "    # 문서가 `StuffDocumentsChain`의 컨텍스트를 초과하는 경우\n",
    "    collapse_documents_chain=combine_documents_chain,\n",
    "    # 문서를 그룹화할 때의 토큰 최대 개수입니다.\n",
    "    token_max=4000,\n",
    ")"
   ]
  },
  {
   "cell_type": "markdown",
   "metadata": {},
   "source": [
    "### 통합체인(Combined Chain) 생성"
   ]
  },
  {
   "cell_type": "code",
   "execution_count": 59,
   "metadata": {},
   "outputs": [],
   "source": [
    "from langchain.chains import MapReduceDocumentsChain\n",
    "\n",
    "# 문서들에 체인을 매핑하여 결합하고, 그 다음 결과들을 결합합니다.\n",
    "map_reduce_chain = MapReduceDocumentsChain(\n",
    "    # Map 체인\n",
    "    llm_chain=map_chain,\n",
    "    # Reduce 체인\n",
    "    reduce_documents_chain=reduce_documents_chain,\n",
    "    # 문서를 넣을 llm_chain의 변수 이름(map_template 에 정의된 변수명)\n",
    "    document_variable_name=\"pages\",\n",
    "    # 출력에서 매핑 단계의 결과를 반환합니다.\n",
    "    return_intermediate_steps=False,\n",
    ")"
   ]
  },
  {
   "cell_type": "code",
   "execution_count": 60,
   "metadata": {},
   "outputs": [
    {
     "name": "stdout",
     "output_type": "stream",
     "text": [
      "소년은 개울가에서 소녀를 보고 그녀가 윤 초시네 증손녀라는 것을 알게 됩니다. 소녀는 물장난을 하고 있으며, 소년은 그녀를 지켜보고 있습니다. 소녀는 물 속을 들여다보고 물을 움켜 낸 후 조약돌을 집어내고 징검다리를 건너갑니다. 소녀는 갈꽃을 안고 갈꽃머리로 걸어가고, 소년은 소녀의 그림자가 뵈지 않는 날이 계속되면서 허전함을 느끼고 주머니 속 조약돌을 가지고 다닙니다. 소년은 소녀가 물장난을 하던 징검다리에 앉아 물 속을 들여다보고 세수를 하지만 자신의 얼굴이 검게 비치는 것을 싫어합니다. 소년은 물 속에서 얼굴을 움키다가 소녀를 발견하고 달리기를 시작합니다. 소년은 메밀밭을 지나가며 코피를 훔치고, 소녀와 함께 산으로 가기로 결정합니다. 소녀와 소년은 허수아비를 만나고 놀며 산으로 달려갑니다. 소년은 독수리가 맴돌아 어지러워합니다. 소녀와 소년이 함께 농장을 돌아다니며 여러 꽃과 작물을 보고 먹습니다. 소녀는 참외를 맛보고 맵다고 하며 버립니다. 소년은 소녀에게 꽃을 건네주고 함께 산으로 가서 더 많은 꽃을 꺾습니다. 소녀는 마타리꽃을 좋아하며 소년에게 꽃을 버리지 말라고 합니다. 소녀와 소년은 산마루에서 조용히 앉아 꽃을 감상합니다. 소녀는 등꽃을 보고 동무들을 생각하며 비탈진 곳으로 가서 꽃을 따기 시작합니다. 소년과 소녀가 함께 놀다가 비가 오기 시작합니다. 소년은 소녀를 비에서 보호하기 위해 원두막으로 이동합니다. 소년은 비를 맞으면서 소녀를 보호하고, 소녀는 소년의 도움을 받아 편안하게 있습니다. 소년과 소녀가 비에 젖은 상황에서 만납니다. 소녀가 소년을 안아주고 소년은 소녀에게 마음이 끌립니다. 소녀는 개울가에서 소년을 기다리지 않고, 소년은 소녀를 찾아다니며 마음을 품고 있습니다. 소녀는 소나기 때문에 아프다고 합니다. 소년은 소녀에게 대추를 받고 소녀는 집을 내주게 됩니다. 소년은 소녀네가 이사해 오기 전에 벌써 어른들의 이야기를 들어서, 윤 초시 손자가 서울에서 사업에 실패해 고향에 돌아오지 않을 수 없게 되었다는 걸 알고 있었습니다. 소년은 이사 가는 것을 싫어했고, 소녀의 까만 눈에 쓸쓸한 빛이 떠돌았습니다. 소년은 소녀가 이사를 간다는 말을 되뇌었고, 호두밭으로 가서 호두를 수확했습니다. 소년은 소녀에게 호두를 맛보여야 한다는 생각에 호두를 깨고 소녀에게 가져갈 생각을 했습니다. 소년의 아버지는 서당골 윤 초시 댁에 가기 위해 닭을 안고 나갔습니다. 소년은 아버지가 어디 가는지 물었고, 아버지는 서당골 윤 초시 댁에 가는 것을 말했습니다. 소년은 외양간으로 가서 쇠잔등을 갈겼고, 개울물은 날로 여물어 갔습니다. 소년은 소녀네가 양평읍으로 이사 간다는 것을 알게 되었습니다. 소년은 호두알을 만지작거리며 갈꽃을 꺾고 있었습니다. 소년은 내일 소녀네가 이사하는 걸 가 보기로 결심했습니다. 주인공의 아버지가 마을에 돌아왔습니다. 아버지는 집을 팔고 악상을 당하는 상황에 처해있습니다. 어머니는 증손이 계집애 하나뿐이라고 말합니다. 주인공은 어려서 자식을 잃어버렸다고 합니다. 주인공은 앓는 것을 약으로 치료하지 못하고 있습니다. 주인공의 가족은 어려운 상황에 처해있습니다. 주인공의 계집애는 잔망스럽지 않다고 합니다. 주인공의 계집애는 죽을 때 자기 입던 옷을 입혀 달라고 했다고 합니다.\n"
     ]
    }
   ],
   "source": [
    "# Map-Reduce 체인 실행\n",
    "# 입력: 분할된 도큐먼트(②의 결과물)\n",
    "result = map_reduce_chain.run(split_docs)\n",
    "# 요약결과 출력\n",
    "print(result)"
   ]
  },
  {
   "cell_type": "markdown",
   "metadata": {},
   "source": [
    "## 독서감상문 작성하기"
   ]
  },
  {
   "cell_type": "code",
   "execution_count": 61,
   "metadata": {},
   "outputs": [
    {
     "name": "stdout",
     "output_type": "stream",
     "text": [
      "처음에 이 소설을 읽게 된 동기는 소설의 제목인 \"소년이 온다\"라는 제목이 흥미로워서였습니다. 또한, 소설의 내용이 어린 시절의 추억과 성장을 다루고 있다는 것을 알고 이 소설을 선택하게 되었습니다. 이 소설은 이승원 작가의 작품으로, 그의 다른 작품들과 마찬가지로 따뜻하고 감성적인 이야기를 담고 있습니다.\n",
      "\n",
      "이 소설은 소년과 소녀의 만남과 성장을 그린 이야기입니다. 소년은 개울가에서 소녀를 보고 그녀가 윤 초시네 증손녀라는 것을 알게 됩니다. 소녀는 물장난을 하며 소년은 그녀를 지켜보고 있습니다. 소녀는 물 속을 들여다보고 물을 움켜 낸 후 조약돌을 집어내고 징검다리를 건너갑니다. 소녀는 갈꽃을 안고 갈꽃머리로 걸어가고, 소년은 소녀의 그림자가 뵈지 않는 날이 계속되면서 허전함을 느끼고 주머니 속 조약돌을 가지고 다닙니다.\n",
      "\n",
      "이 소설은 주인공의 행동과 나의 행동을 비교해 보면서 생각해 볼 수 있는 소설입니다. 소년은 소녀를 보고 그녀를 따라가며 그녀를 지켜보고 있습니다. 이는 나에게도 영감을 주었습니다. 나는 주변 사람들을 지켜보고 그들을 도와주는 것이 얼마나 중요한지를 깨달았습니다. 또한, 소년이 소녀의 그림자가 뵈지 않는 날이 계속되면서 허전함을 느끼는 것을 보면서 나도 혼자인 것보다는 누군가와 함께하는 것이 더 행복하다는 것을 깨달았습니다.\n",
      "\n",
      "이 소설은 또한 주인공의 성장과 변화를 그려내고 있습니다. 소년은 소녀와 함께 여러 경험을 하면서 성장하고 있습니다. 그는 소녀와 함께 산으로 가고, 농장을 돌아다니며 여러 꽃과 작물을 보고 먹습니다. 이를 통해 소년은 자연과 함께하는 경험을 통해 세상을 더 깊이 알아가고, 자신의 삶에 대해 더욱 감사하게 되는 것을 느낄 수 있습니다.\n",
      "\n",
      "이 소설은 또한 주제와 의미가 우리 사회에 어떻게 작용할 것인지를 생각해 볼 수 있는 소설입니다. 이 소설은 사랑과 성장, 그리고 가족의 중요성을 다루고 있습니다. 주인공의 가족은 어려운 상황에 처해있지만, 그들은 서로를 지지하고 사랑하며 함께 성장하려는 모습을 보여줍니다. 이는 우리 사회에서도 중요한 가치라고 생각합니다. 또한, 소년과 소녀의 만남과 성장은 우리에게 사랑과 희망을 전해주는 메시지가 될 수 있습니다.\n",
      "\n",
      "이 소설을 읽으면서 받은 감동은 크게 두 가지입니다. 첫째, 주인공의 성장과 변화를 보면서 나도 더욱 성장하고 발전해야 한다는 생각을 하게 되었습니다. 둘째, 소년과 소녀의 사랑과 성장을 보면서 가족과 사랑의 중요성을 다시 한 번 깨달았습니다. 이 소설은 따뜻하고 감성적인 이야기로, 읽으면서 마음이 따뜻해지고 희망을 가질 수 있는 소설입니다.\n",
      "\n",
      "이 소설은 사랑과 성장, 그리고 가족의 중요성을 다루고 있습니다. 주인공의 성장과 변화를 통해 우리에게 사랑과 희망을 전해주는 메시지를 전달하고 있습니다. 이 소설을 읽으면서 나도 더욱 성장하고 발전해야 한다는 생각을 하게 되었습니다. 또한, 소년과 소녀의 사랑과 성장을 보면서 가족과 사랑의 중요성을 다시 한 번 깨달았습니다. 이 소설은 따뜻하고 감성적인 이야기로, 읽으면서 마음이 따뜻해지고 희망을 가질 수 있는 소설입니다.\n"
     ]
    }
   ],
   "source": [
    "# 질문 템플릿 형식 정의\n",
    "template = \"\"\"다음은 소설에 대한 요약본입니다. \n",
    "다음의 내용을 독서 감상문 형식으로 작성해 주세요. \n",
    "\n",
    "독서 감상문의 형식은 다음과 같습니다:\n",
    "\n",
    "처음: 글을 읽게 된 동기나 책을 처음 대했을 때의 느낌을 쓰고, 글의 종류나 지은이 소개, 주인\n",
    "공이나 주제의 소개\n",
    "중간: 주인공의 행동과 나의 행동을 비교해 보기도 하고, 글의 내용을 평가해 보기도 하며, 글\n",
    "속에서 발견한 주제나 의미가 우리 사회에 어떻게 작용할 것인가를 씁니다. 그리고 글을 읽으면서 받은\n",
    "감동을 쓰기도 합니다.\n",
    "끝: 글의 내용을 정리하며, 교훈을 적어두기도 한다. 그리고 끝글은 지루하지 않도록 산뜻하게\n",
    "\n",
    "{text}\n",
    "\n",
    "답변:\n",
    "\"\"\"\n",
    "\n",
    "# 템플릿 완성\n",
    "prompt = PromptTemplate(template=template, input_variables=['text'])\n",
    "\n",
    "# 연결된 체인(Chain)객체 생성\n",
    "llm_chain = LLMChain(prompt=prompt, llm=llm)\n",
    "\n",
    "output = llm_chain.run(text=result)\n",
    "print(output)"
   ]
  },
  {
   "cell_type": "code",
   "execution_count": null,
   "metadata": {},
   "outputs": [],
   "source": []
  }
 ],
 "metadata": {
  "kernelspec": {
   "display_name": "ragstudy-L89wIJFw-py3.11",
   "language": "python",
   "name": "python3"
  },
  "language_info": {
   "codemirror_mode": {
    "name": "ipython",
    "version": 3
   },
   "file_extension": ".py",
   "mimetype": "text/x-python",
   "name": "python",
   "nbconvert_exporter": "python",
   "pygments_lexer": "ipython3",
   "version": "3.11.9"
  }
 },
 "nbformat": 4,
 "nbformat_minor": 2
}
