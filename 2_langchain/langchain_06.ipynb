{
 "cells": [
  {
   "cell_type": "code",
   "execution_count": 1,
   "metadata": {},
   "outputs": [
    {
     "data": {
      "text/plain": [
       "True"
      ]
     },
     "execution_count": 1,
     "metadata": {},
     "output_type": "execute_result"
    }
   ],
   "source": [
    "import os\n",
    "from dotenv import load_dotenv\n",
    "# API KEY 정보 불러오기\n",
    "load_dotenv()"
   ]
  },
  {
   "cell_type": "code",
   "execution_count": 2,
   "metadata": {},
   "outputs": [],
   "source": [
    "# pdf 읽고, 분할하기\n",
    "from langchain.document_loaders import PyPDFLoader\n",
    "\n",
    "loader = PyPDFLoader(\"./data/소나기 - 황순원.pdf\") \n",
    "docs = loader.load_and_split()"
   ]
  },
  {
   "cell_type": "code",
   "execution_count": 3,
   "metadata": {},
   "outputs": [
    {
     "name": "stderr",
     "output_type": "stream",
     "text": [
      "C:\\Users\\turbo\\AppData\\Local\\Temp\\ipykernel_24024\\2034491755.py:7: LangChainDeprecationWarning: The method `Chain.run` was deprecated in langchain 0.1.0 and will be removed in 1.0. Use invoke instead.\n",
      "  summary = chain.run(docs)\n"
     ]
    },
    {
     "name": "stdout",
     "output_type": "stream",
     "text": [
      "A boy frequently encounters a girl at a stream and becomes intrigued by her. They develop a connection through shared adventures in the countryside, despite initial awkwardness. The boy helps the girl when she is injured, and they bond during a rainstorm. The girl falls ill afterward, and they later reunite, sharing unspoken emotions as her family prepares to move due to financial difficulties. The boy is saddened by her impending departure and regrets not arranging a final meeting. Meanwhile, the girl's family, once wealthy, has faced significant misfortunes, including the loss of their children, with only one granddaughter remaining, who recently passed away. The story highlights themes of youthful curiosity, fleeting connections, and the impact of family hardships.\n"
     ]
    }
   ],
   "source": [
    "# 내용 정리하기 \n",
    "from langchain_openai import ChatOpenAI\n",
    "from langchain.chains.summarize import load_summarize_chain\n",
    "\n",
    "llm = ChatOpenAI(temperature=0,model_name='gpt-4o')\n",
    "chain = load_summarize_chain(llm, chain_type=\"map_reduce\")\n",
    "summary = chain.run(docs)\n",
    "print(summary)"
   ]
  },
  {
   "cell_type": "code",
   "execution_count": 4,
   "metadata": {},
   "outputs": [
    {
     "name": "stdout",
     "output_type": "stream",
     "text": [
      "A boy frequently encounters a girl at a stream on his way home from school, gradually becoming intrigued by her. After a playful interaction, he keeps a pebble she threw at him as a memento. As they spend time together exploring the countryside, they form a deep connection, sharing innocent and spontaneous childhood moments. The boy helps the girl when she gets injured, showcasing his protective nature. After a rainstorm, the girl falls ill, and they eventually reunite, sharing unspoken emotions as her family prepares to move due to financial difficulties. The boy, saddened by her impending departure, collects walnuts to give her but regrets not arranging a final meeting. Meanwhile, a conversation reveals the misfortunes of the girl's family, who have lost their wealth and children, with only one granddaughter remaining, who recently passed away.\n"
     ]
    }
   ],
   "source": [
    "# 내용 정리하기 - invoke 사용\n",
    "from langchain_openai import ChatOpenAI\n",
    "from langchain.chains.summarize import load_summarize_chain\n",
    "\n",
    "llm = ChatOpenAI(temperature=0,model_name='gpt-4o')\n",
    "chain = load_summarize_chain(llm, chain_type=\"map_reduce\")\n",
    "\n",
    "summary = chain.invoke(docs)\n",
    "print(summary['output_text'])"
   ]
  },
  {
   "cell_type": "markdown",
   "metadata": {},
   "source": [
    "### 번역 : DEEPL API 사용"
   ]
  },
  {
   "cell_type": "code",
   "execution_count": 5,
   "metadata": {},
   "outputs": [
    {
     "name": "stdout",
     "output_type": "stream",
     "text": [
      "안녕하세요, 세상 여러분!\n"
     ]
    }
   ],
   "source": [
    "import deepl\n",
    "\n",
    "auth_key = os.getenv(\"DEEPL_API_KEY\")\n",
    "translator = deepl.Translator(auth_key)\n",
    "result = translator.translate_text(\"Hello, world!\", target_lang=\"KO\")\n",
    "print(result.text)"
   ]
  },
  {
   "cell_type": "code",
   "execution_count": 6,
   "metadata": {},
   "outputs": [
    {
     "name": "stdout",
     "output_type": "stream",
     "text": [
      "[영문]: A boy frequently encounters a girl at a stream on his way home from school, gradually becoming intrigued by her. After a playful interaction, he keeps a pebble she threw at him as a memento. As they spend time together exploring the countryside, they form a deep connection, sharing innocent and spontaneous childhood moments. The boy helps the girl when she gets injured, showcasing his protective nature. After a rainstorm, the girl falls ill, and they eventually reunite, sharing unspoken emotions as her family prepares to move due to financial difficulties. The boy, saddened by her impending departure, collects walnuts to give her but regrets not arranging a final meeting. Meanwhile, a conversation reveals the misfortunes of the girl's family, who have lost their wealth and children, with only one granddaughter remaining, who recently passed away.\n",
      "\n",
      "[한글]: 한 소년이 하굣길에 개울가에서 한 소녀를 자주 만나게 되고 점차 그녀에게 흥미를 느끼게 됩니다. 장난스럽게 대화를 나눈 후 소년은 소녀가 던진 조약돌을 기념품으로 간직합니다. 두 사람은 함께 시골을 탐험하며 시간을 보내면서 어린 시절의 순수하고 자연스러운 순간을 공유하며 깊은 유대감을 형성합니다. 소년은 소녀가 다쳤을 때 소녀를 도와주며 보호본능을 발휘합니다. 폭풍우가 몰아친 후 소녀는 병에 걸리고, 결국 재회한 두 사람은 경제적 어려움으로 가족이 이사를 준비하면서 무언의 감정을 나눕니다. 소녀의 임박한 이별이 슬픈 소년은 호두를 모아 그녀에게 주지만 마지막 만남을 준비하지 못한 것을 후회합니다. 한편, 최근 세상을 떠난 손녀 한 명만 남기고 재산과 자식을 모두 잃은 소녀의 가족의 불행한 사연이 대화로 드러납니다.\n"
     ]
    }
   ],
   "source": [
    "print(f\"[영문]: {summary['output_text']}\\n\")\n",
    "translator = deepl.Translator(auth_key)\n",
    "result = translator.translate_text(summary['output_text'], target_lang=\"KO\")\n",
    "print(f\"[한글]: {result.text}\")"
   ]
  },
  {
   "cell_type": "markdown",
   "metadata": {},
   "source": [
    "### google 번역 API"
   ]
  },
  {
   "cell_type": "code",
   "execution_count": null,
   "metadata": {},
   "outputs": [],
   "source": [
    "# !pip install deep-translator"
   ]
  },
  {
   "cell_type": "code",
   "execution_count": 8,
   "metadata": {},
   "outputs": [
    {
     "name": "stdout",
     "output_type": "stream",
     "text": [
      "안녕하세요. 어떻게 지내세요?\n"
     ]
    }
   ],
   "source": [
    "from deep_translator import GoogleTranslator\n",
    "\n",
    "# GoogleTranslator를 사용하여 간단한 번역\n",
    "translator = GoogleTranslator(source='auto', target='ko')\n",
    "translated_text = translator.translate(\"Hello, how are you?\")\n",
    "print(translated_text)"
   ]
  },
  {
   "cell_type": "code",
   "execution_count": 9,
   "metadata": {},
   "outputs": [
    {
     "name": "stdout",
     "output_type": "stream",
     "text": [
      "소년은 종종 학교에서 집으로가는 길에 시내에서 소녀를 만나고 점차 그녀에게 흥미를 느끼게됩니다. 장난스러운 상호 작용을 한 후, 그는 그녀가 그에게 기념품으로 던진 자갈을 유지합니다. 그들은 시골을 탐험하는 데 시간을 보내면서 무고하고 자발적인 어린 시절의 순간을 공유하면서 깊은 연결을 형성합니다. 소년은 그녀가 부상 당할 때 소녀를 도와 주어 자신의 보호 성격을 보여줍니다. 폭우 후, 소녀는 병에 걸리고 결국 재결합하면서 그녀의 가족이 재정적 어려움으로 인해 움직일 준비를하면서 무언의 감정을 공유합니다. 임박한 출발에 슬퍼 한 소년은 호두를 모아서 그녀를 주지만 최종 회의를 마련하지 않은 것을 후회합니다. 한편, 대화는 부와 아이들을 잃은 소녀 가족의 불행을 보여줍니다.\n"
     ]
    }
   ],
   "source": [
    "translated_text = translator.translate(summary['output_text'])\n",
    "print(translated_text)"
   ]
  },
  {
   "cell_type": "code",
   "execution_count": null,
   "metadata": {},
   "outputs": [],
   "source": []
  }
 ],
 "metadata": {
  "kernelspec": {
   "display_name": "ragstudy-L89wIJFw-py3.11",
   "language": "python",
   "name": "python3"
  },
  "language_info": {
   "codemirror_mode": {
    "name": "ipython",
    "version": 3
   },
   "file_extension": ".py",
   "mimetype": "text/x-python",
   "name": "python",
   "nbconvert_exporter": "python",
   "pygments_lexer": "ipython3",
   "version": "3.11.9"
  }
 },
 "nbformat": 4,
 "nbformat_minor": 2
}
