{
 "cells": [
  {
   "cell_type": "code",
   "execution_count": null,
   "metadata": {},
   "outputs": [
    {
     "data": {
      "text/plain": [
       "True"
      ]
     },
     "execution_count": 1,
     "metadata": {},
     "output_type": "execute_result"
    }
   ],
   "source": [
    "import os\n",
    "from dotenv import load_dotenv\n",
    "\n",
    "# API KEY 정보 불러오기\n",
    "load_dotenv()"
   ]
  },
  {
   "cell_type": "markdown",
   "metadata": {},
   "source": [
    "### 뉴스검색 : Tavily API 사용"
   ]
  },
  {
   "cell_type": "code",
   "execution_count": 13,
   "metadata": {},
   "outputs": [
    {
     "name": "stdout",
     "output_type": "stream",
     "text": [
      "{'url': 'https://m.kin.naver.com/qna/dirs/40102/docs/482086423?answerNo=8', 'content': '더보기 현재 테슬라(TSLA) 주가는281.95달러로 전 거래일 대비-3.04% 하락한 상태입니다. 캔들 차트를 보면 최근 하락세가 뚜렷하며,하락 채널(Downtrend Channel)내에서 지속적으로 하락하고 있습니다.https://jumsblog.tistory.com/50테슬라(TSLA) 주가 차트 분석 및 전망 (2025년 2월 28일 기준)1. 테슬라 주가 현황현재 테슬라(TSLA) 주가는 281.95달러로 전 거래일 대비 -3.04% 하락한 상태입니다. 캔들 차트를 보면 최근 하락세가 뚜렷하며, 하락 채널(Downtrend Channel) 내에서 지속적으로 하락하고 있습니다.시가: 291.16달러고가: 297.23달러저가: 280.88달러현재가: 281.95달러변동폭: -8.85달러 (-3.04%)최근 고점(약 500달러)에서 지속적인 하락세를 보이며, 단기적 하락 추세가 유지되고 있습니다. 차트에 그려진 **하락 채널(노란색 선)**을 보면, 현재 주가는 하락 [...] 더보기 안녕하세요 질문자님.먼저 주식을 입문하시기 전에 주식에 관한 공부가 반드시 필요하다는 점 말씀드리고 싶습니다.지적을 하는 글이 아니며, 자신의 자산을 소중하게 다루어야 한다는 것을 알리고 싶습니다..제가 생각하기에 2025년의 테슬라는 전기차 시장의 선두주자로서 자율주행과 배터리 기술 혁신에 큰 투자를 하고 있습니다. 이로 인해 2025년 주가는 $300~$400로 상승할 가능성이 높아 보입니다. 그러나 경쟁사들의 성장이 변수로 작용할 수 있어, 장기적인 관점에서 분할 매수 전략을 고려하는 것이 바람직합니다.테슬라에 관해 더욱 자세한 분석글을 보고 싶으시다면 아래 글을 참고하시길 바랍니다.\\u200b* 채택된 답변의 해피빈은 불우이웃에게 기부하오니,답변이 마음에 드셨다면 채택부탁드립니다.\\u200b테슬라 주가 전망 2025 투자 전략 파헤치기테슬라의 미래, 지금 투자해야 할까?최근 몇 년간 테슬라 주가 전망은 급격한 변동을 보여왔습니다. 전기차 시장의 선두주자로 자리 잡았으며, 자율주행 [...] 본문 더보기\\nUPDOWN\\n댓글\\n 푸른하늘은하수물신eXpert 뱃지 2025.02.28\\n메뉴 더보기\\n테슬라는 애플과 같은 세상을 바꾸는 기업이죠. 그 CEO 일론 머스크 역시도 그 옛날 에디슨과 같은 세상을 바꾸고 있는 인물입니다. 전 6년 전부터 장기투자 중인데, 무지성 보다는 잘 알고 투자해서 꼭 성공하고 부자 되세요.^^ 2025 FSD 중국 승인과 사이버캡, 그리고 주가전망 https://vo.la/azJvtJ\\n 1:1 상담 [톡50분, 음성30분] 아프지 말고 혼자 고민하지 마세요. 판매가45,000원\\nUPDOWN\\n댓글\\n8개 더보기\\n엑스퍼트 추천 상품\\n바로가기\\n이서현AFPK부채는 줄이고 자산은 늘리는 현금흐름 만들기!! 판매가30,000원3회'}\n",
      "----------------------------------------------------------------------------------------------------\n",
      "{'url': 'https://m.kin.naver.com/qna/dirs/40102/docs/460425790?qb=7YWM7Iqs6528IOyjvOyLnQ==&enc=utf8&section=kin.qna_ency&rank=4&search_sort=0&spq=0', 'content': '더보기 안녕하세요!테슬라 주식의 최근 동향에 대해 궁금하시군요. 테슬라(TSLA)의 주가는 최근 변동성을 보이고 있습니다. 아래는 최신 주가 정보입니다:\\u200b현재테슬라(TSLA) 주가는 약396.36달러이며, 최근 거래에서 **약간 하락(-0.0177%)**한 상태입니다.최고가:422.3달러최저가:393달러주가는 여러 요인(예: 시장 상황, 기업 실적, 경제 지표 등)에 따라 상승과 하락을 반복하며 변동성을 보이고 있습니다.\\u200b따라서, 테슬라 주식은현재 하락세에 있지만, 하루 단위로 계속 변동하므로 상황에 따라 상승할 수도 있습니다. 질문자님 아버지께서도 장기적인 관점에서 투자하고 계실 가능성이 높으니, 너무 걱정하지 않으셔도 될 것 같아요!\\u200b추가로 궁금한 점이 있다면 언제든지 물어보세요. ✨출처:https://one.lovejhjh55.com/2025/01/y.html테슬라 주가 전망, 모델Y 시승, 보조금까지one.lovejhjh55.com\\u200b 더보기\\nUP1DOWN\\n댓글\\n채택된 답변 [...] 지식in 전문가 Expert 2024.08.12\\n메뉴 더보기\\n접기\\n더보기 안녕하세요. 네이버 지식인 주식 전문가 Expert 입니다.\\u200b아빠가 테슬라 주식을 하시는 것 같아 궁금하시군요. 현재 테슬라 주식은 조금씩 상승하고 있는 중입니다. 하지만 주식은 항상 변동이 있기 때문에, 아빠께서도 신중하게 투자하고 계실 거예요. 테슬라 주식의 향후 방향은 여러 요인에 따라 달라질 수 있으니, 아빠께서 잘 판단하실 겁니다.\\u200b테슬라 주가 전망에 대한 자세한 내용입니다.https://m.site.naver.com/1rV2L테슬라 주가 전망테슬라 주가의 상승과 하락 전망을 분석하여 투자 결정을 돕습니다. 전기차 시장을 선도하는 테슬라의 미래를 결정지을 핵심 요인을 확인하세요.m.site.naver.com\\u200b 더보기\\nUPDOWN\\n댓글\\n엑스퍼트 추천 상품\\n바로가기\\n박대중AFPK보상전문가가 알려주는 쉬운 보험 재무상담을 상담드립니다!! 판매가10,000원20분\\n 접속중'}\n",
      "----------------------------------------------------------------------------------------------------\n",
      "{'url': 'https://kin.naver.com/tag/tagDetail.naver?tag=%ED%85%8C%EC%8A%AC%EB%9D%BC%EC%A3%BC%EC%8B%9D', 'content': '테슬라 내부적으로 뭔 일 있나요?\\n뭐 사건이라도 터졌나요 테슬라 주가 하락 이유 (2025년 기준) 1. 신차 판매 부진 – 미국·유럽·중국에서 판매량 감소 2. 경쟁 심화 – 전기차 시장에서 BYD 등 경쟁사 성장 3....\\n#테슬라 #테슬라주식 #미국주식 #해외투자\\n답변 3 2025.02.27.주식, 증권\\n\\n\\n테슬라 주가는 왜 항상 떨어지나요?\\n항상 떨어지는건가요? 최근 테슬라(Tesla, TSLA) 주가는 여러 요인으로 인해 하락세를 보이고 있습니다. 주요 원인들을 정리해보면 다음과 같습니다. 1. 일론 머스크의 정치적...\\n#테슬라 #테슬라주식 #미국주식 #해외투자\\n답변 7 2025.02.27.주식, 증권\\n\\n\\n테슬라 주식\\n지금 20만원 넣으면 7월달쯤엔 올라있을까요? 개인적인 생각으로는 오를 확률이 높다고 생각됩니다\\n#테슬라 #테슬라주식 #주가 #주식\\n답변 2 2025.02.15.주식, 증권 [...] #테슬라투자\\n#애플주식\\n#테슬라뉴스\\n#테슬라공매도\\n#테슬라sp500\\n#테슬람\\n#테슬라매수\\n#테슬라편입\\n#테슬라주가전망\\n#해외주식사는법\\n#테슬라전망\\n#해외주식시간\\n#샤오펑\\n#아마존주식\\n#테슬라유상증자\\n#중국전기차\\n#snp500\\n#일론머스크\\n#tsla\\n#미국주식\\n\\n접기더보기\\n\\nQ&A\\n내 질문\\n\\n옵션\\n정렬\\n최신순 추천순\\n필터\\n전체 전문가 지식파트너\\n닫기\\n총 242건\\n\\n\\n테슬라가 핸드폰 사업을하면 주식장이...\\n테슬라 주식사고싶은데 하나도 몰라서요.. 테슬라 주식을 처음 사려면 언제 사는 것이 좋은지(매수 타이밍), 장기적으로 전망이 어떤지가 중요하죠! ✅ 1. 테슬라 주식...\\n#테슬라 #테슬라주식 #일론머스크 #트럼프 #미국주식 #미국테슬라 #테슬라주식투자 #미국주식투자\\n답변 4 2025.03.17.주식, 증권 [...] 테슬라는 절대 안오르는 주식인가요?\\n항상 내리는 주식인가요 테슬라 주가 하락 이유 (2025년 기준) 1. 신차 판매 부진 – 미국·유럽·중국에서 판매량 감소 2. 경쟁 심화 – 전기차 시장에서 BYD 등 경쟁사 성장 3....\\n#테슬라 #테슬라주식 #미국주식 #미국주식거래\\n답변 7 2025.02.27.주식, 증권\\n\\n\\n오늘 미국주식 어떻게 될까요?\\n테슬라는 어찌될까요..? 이미 3거래일 연속 크게 하락했는데 오늘도 반등없이 계속 하락일까요?.. 테슬라 주가 하락 이유 (2025년 기준) 1. 신차 판매 부진 – 미국·유럽...\\n#테슬라 #테슬라주식 #미국주식 #오늘의주식\\n답변 2 2025.02.27.주식, 증권'}\n",
      "----------------------------------------------------------------------------------------------------\n"
     ]
    }
   ],
   "source": [
    "from langchain_community.tools.tavily_search import TavilySearchResults\n",
    "\n",
    "query = \"2025년 테슬라의 주가 전망에 대해서 분석하세요.\"\n",
    "# web_search = TavilySearchResults(max_results=2)\n",
    "web_search = TavilySearchResults(\n",
    "    max_results=3,  # 검색결과 개수\n",
    "    include_answer=True,\n",
    "    include_raw_content=True,\n",
    "    # include_images=True,\n",
    "    # search_depth=\"advanced\", # or \"basic\"\n",
    "    include_domains=[\"naver.com\", \"wikidocs.net\"],  # 검색할 사이트 한정\n",
    "    # exclude_domains = []\n",
    ")\n",
    "search_results = web_search.invoke(query)\n",
    "for result in search_results:\n",
    "    print(result)\n",
    "    print(\"-\" * 100)"
   ]
  },
  {
   "cell_type": "markdown",
   "metadata": {},
   "source": [
    "# ChatGPT에 최신정보 물어보기"
   ]
  },
  {
   "cell_type": "code",
   "execution_count": 11,
   "metadata": {},
   "outputs": [
    {
     "name": "stdout",
     "output_type": "stream",
     "text": [
      "2024년 한국 뮤지컬 \"시카고\"의 주연 배우에 대한 정보는 제가 가지고 있는 데이터 기준으로는 확인할 수 없습니다. 뮤지컬 캐스팅은 종종 변경되거나 업데이트되기 때문에, 최신 정보를 확인하려면 공식 웹사이트나 관련 뉴스 매체를 참고하는 것이 좋습니다. 일반적으로 주요 뮤지컬의 경우, 유명한 배우들이 캐스팅되는 경우가 많으니, 관심 있는 배우가 출연할 가능성도 있습니다.\n"
     ]
    }
   ],
   "source": [
    "from langchain_openai import ChatOpenAI\n",
    "from langchain_core.prompts import ChatPromptTemplate\n",
    "\n",
    "prompt = ChatPromptTemplate.from_messages([(\"user\", \"{question}\")])\n",
    "llm = ChatOpenAI(model=\"gpt-4o-mini\", temperature=0)\n",
    "\n",
    "chain = prompt | llm\n",
    "\n",
    "answer = chain.invoke(\n",
    "    {\"question\": \"2024년 한국 뮤지컬 시카고의 주연 배우들은 누구인가요?\"}\n",
    ")\n",
    "\n",
    "print(answer.content)"
   ]
  },
  {
   "cell_type": "code",
   "execution_count": null,
   "metadata": {},
   "outputs": [],
   "source": [
    "# !pip install tavily-python"
   ]
  },
  {
   "cell_type": "markdown",
   "metadata": {},
   "source": [
    "# TavilySearch 사용"
   ]
  },
  {
   "cell_type": "code",
   "execution_count": 12,
   "metadata": {},
   "outputs": [
    {
     "name": "stdout",
     "output_type": "stream",
     "text": [
      "[Document(metadata={'title': \"[풀영상] 2024 뮤지컬 '시카고' 주연배우 인터뷰｜최정원·윤공주·정선아·아이비·티파니 영·민경아·박건형·최재림｜Musical ...\", 'source': 'https://m.korean-vibe.com/news/newsview.php?ncode=179573404581419', 'score': 0.8893851, 'images': []}, page_content='[풀영상] 2024 뮤지컬 ′시카고′ 주연배우 인터뷰｜최정원·윤공주·정선아·아이비·티파니 영·민경아·박건형·최재림｜Musical ′CHICAGO′ [풀영상] 2024 뮤지컬 \\'시카고\\' 주연배우 인터뷰｜최정원·윤공주·정선아·아이비·티파니 영·민경아·박건형·최재림｜Musical \\'CHICAGO\\' 2024년 5월 23일 뮤지컬 \\'시카고\\'의 연습실 장면이 공개됐다. 2024 뮤지컬 \\'시카고\\'는 오는 6월 7일 개막한다. The 2024 musical \"Chicago\" will open on June 7th. (C) Yonhap News Agency. ### K-POP ### K-DRAMA&FILM About K-VIBE Yonhap News Agency | (K-Culture Planning Division) 25, Yulgok-ro 2 gil, Jongno-gu, Seoul, KOREA | President and CEO : Hwang Dae-il | Title : K-VIBE | Tel : +82-2-398-3114(representative) The intellectual property rights of all news and information including articles, photos, graphics and images of K-VIBE are property of Yonhap News Agency and protected by relevant laws. Copyright (c) Yonhap News Agency. K-Talk K-POP K-DRAMA&FILM K-LIFE\\xa0 K-GALLERY\\xa0 K-Star Gallery'), Document(metadata={'title': 'Tavily: LLM을 위한 최적화된 검색 API - 벨로그', 'source': 'https://velog.io/@woody_ahn/Tavily-LLM을-위한-최적화된-검색-API', 'score': 0.6246834, 'images': []}, page_content='gpt-4o-mini에게 \"2024년 한국 뮤지컬 시카고의 주연 배우는 누구인가요?\" 라고 질문을 해 봅시다. ... (\"2024년 한국 뮤지컬 시카고의 주연 배우들은 누구인가요?\") print (result) 이 코드는 관련성 높은 상위 3개의 문서를 반환합니다. 각 문서에는 제목, 출처, 관련성 점수'), Document(metadata={'title': '2024년 뮤지컬 시카고 줄거리 및 등장인물, 배역 정보 알아보기', 'source': 'https://make-room.co.kr/entry/2024년-뮤지컬-시카고-줄거리-및-등장인물-배역-정보-알아보기', 'score': 0.39236066, 'images': []}, page_content='뮤지컬 시카고는 오리지널 초연 이후에 꾸준히 많은 사랑을 받고 있는 뮤지컬입니다. 한국에는 2000년 신시컴퍼니에서 라이선스 초연을 시작으로 2~3년에 한 번씩 라이선스 공연과 내한 공연이 계속 진행되고 있습니다. 오늘은 시카고의 줄거리와 인물들, 그리고 2024년 뮤지컬 시카고의 공연 정보까지')]\n"
     ]
    }
   ],
   "source": [
    "from langchain_community.retrievers import TavilySearchAPIRetriever\n",
    "\n",
    "retriever = TavilySearchAPIRetriever(k=3)\n",
    "result = retriever.invoke(\"2024년 한국 뮤지컬 시카고의 주연 배우들은 누구인가요?\")\n",
    "print(result)"
   ]
  },
  {
   "cell_type": "markdown",
   "metadata": {},
   "source": [
    "# TavilySearch + LLM"
   ]
  },
  {
   "cell_type": "code",
   "execution_count": null,
   "metadata": {},
   "outputs": [
    {
     "name": "stdout",
     "output_type": "stream",
     "text": [
      "2024년 한국 뮤지컬 '시카고'의 주연 배우들은 최정원, 윤공주, 정선아, 아이비, 티파니 영, 민경아, 박건형, 최재림입니다.\n"
     ]
    }
   ],
   "source": [
    "from langchain_openai import ChatOpenAI\n",
    "from langchain_community.retrievers import TavilySearchAPIRetriever\n",
    "from langchain_core.runnables import RunnablePassthrough\n",
    "from langchain_core.output_parsers import StrOutputParser\n",
    "from langchain_core.prompts import PromptTemplate\n",
    "\n",
    "\n",
    "def format_docs(docs):\n",
    "    return \"\\n\\n\".join([d.page_content for d in docs])\n",
    "\n",
    "\n",
    "prompt = PromptTemplate.from_template(\n",
    "    \"\"\"You are an assistant for question-answering tasks. \n",
    "Use the following pieces of retrieved context to answer the question. \n",
    "If you don't know the answer, just say that you don't know. \n",
    "Answer in Korean.\n",
    "\n",
    "#Question: \n",
    "{question} \n",
    "#Context: \n",
    "{context} \n",
    "\n",
    "#Answer:\"\"\"\n",
    ")\n",
    "llm = ChatOpenAI(model=\"gpt-4o-mini\", temperature=0)\n",
    "retriever = TavilySearchAPIRetriever(k=3)\n",
    "\n",
    "chain = (\n",
    "    {\"context\": retriever | format_docs, \"question\": RunnablePassthrough()}\n",
    "    | prompt\n",
    "    | llm\n",
    "    | StrOutputParser()\n",
    ")\n",
    "\n",
    "result = chain.invoke(\"2024년 한국 뮤지컬 시카고의 주연 배우들은 누구인가요?\")\n",
    "\n",
    "print(result)"
   ]
  },
  {
   "cell_type": "code",
   "execution_count": null,
   "metadata": {},
   "outputs": [],
   "source": []
  }
 ],
 "metadata": {
  "kernelspec": {
   "display_name": "ragstudy-L89wIJFw-py3.11",
   "language": "python",
   "name": "python3"
  },
  "language_info": {
   "codemirror_mode": {
    "name": "ipython",
    "version": 3
   },
   "file_extension": ".py",
   "mimetype": "text/x-python",
   "name": "python",
   "nbconvert_exporter": "python",
   "pygments_lexer": "ipython3",
   "version": "3.11.9"
  }
 },
 "nbformat": 4,
 "nbformat_minor": 2
}
